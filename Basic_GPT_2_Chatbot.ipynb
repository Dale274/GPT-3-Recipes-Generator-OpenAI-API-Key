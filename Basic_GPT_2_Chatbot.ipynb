{
  "nbformat": 4,
  "nbformat_minor": 0,
  "metadata": {
    "colab": {
      "provenance": [],
      "authorship_tag": "ABX9TyOWA1+i1q6dB/SVR+FgqJ0e",
      "include_colab_link": true
    },
    "kernelspec": {
      "name": "python3",
      "display_name": "Python 3"
    },
    "language_info": {
      "name": "python"
    }
  },
  "cells": [
    {
      "cell_type": "markdown",
      "metadata": {
        "id": "view-in-github",
        "colab_type": "text"
      },
      "source": [
        "<a href=\"https://colab.research.google.com/github/Dale274/GPT-3.5-Recipes-Generator-OpenAI-API-Key-/blob/main/Basic_GPT_2_Chatbot.ipynb\" target=\"_parent\"><img src=\"https://colab.research.google.com/assets/colab-badge.svg\" alt=\"Open In Colab\"/></a>"
      ]
    },
    {
      "cell_type": "code",
      "execution_count": null,
      "metadata": {
        "id": "sekLq6m3oGdI"
      },
      "outputs": [],
      "source": [
        "!git clone https://github.com/huggingface/transformers; cd transformers; pip install ."
      ]
    },
    {
      "cell_type": "code",
      "source": [
        "from transformers import AutoTokenizer, AutoModelForCausalLM\n",
        "\n",
        "def generate_text(input_text, model, tokenizer):\n",
        "    input_tokens = tokenizer.encode(input_text, return_tensors=\"pt\")\n",
        "    generated_output = model.generate(input_tokens, max_length=50, num_return_sequences=1)\n",
        "    generated_text = tokenizer.decode(generated_output[0], skip_special_tokens=True)\n",
        "    return generated_text\n",
        "\n",
        "model_name = \"gpt2\"\n",
        "tokenizer = AutoTokenizer.from_pretrained(model_name)\n",
        "model = AutoModelForCausalLM.from_pretrained(model_name)\n",
        "\n",
        "while True:\n",
        "    input_text = input(\"Enter your text: \")\n",
        "    generated_text = generate_text(input_text, model, tokenizer)\n",
        "    print(\"Generated text:\", generated_text)\n",
        "    \n",
        "    continue_choice = input(\"Do you want to continue? (y/n): \").lower()\n",
        "    if continue_choice == \"n\":\n",
        "        break\n"
      ],
      "metadata": {
        "colab": {
          "base_uri": "https://localhost:8080/"
        },
        "id": "vEcOP6iqWYrT",
        "outputId": "48b462eb-1ebb-4c86-df4d-dd3295e70b6c"
      },
      "execution_count": 5,
      "outputs": [
        {
          "name": "stdout",
          "output_type": "stream",
          "text": [
            "Enter your text: what is photosynthesis?\n"
          ]
        },
        {
          "output_type": "stream",
          "name": "stderr",
          "text": [
            "The attention mask and the pad token id were not set. As a consequence, you may observe unexpected behavior. Please pass your input's `attention_mask` to obtain reliable results.\n",
            "Setting `pad_token_id` to `eos_token_id`:50256 for open-end generation.\n"
          ]
        },
        {
          "name": "stdout",
          "output_type": "stream",
          "text": [
            "Generated text: what is photosynthesis?\n",
            "\n",
            "The answer is that photosynthesis is a process of converting carbon dioxide into energy. The process is called photosynthesis, and it is a process that involves the conversion of carbon dioxide into energy.\n",
            "\n",
            "The process is\n",
            "Do you want to continue? (y/n): n\n"
          ]
        }
      ]
    }
  ]
}